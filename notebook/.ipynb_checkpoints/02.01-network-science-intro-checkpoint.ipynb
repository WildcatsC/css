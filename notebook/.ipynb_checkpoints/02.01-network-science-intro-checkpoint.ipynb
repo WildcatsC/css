{
 "cells": [
  {
   "cell_type": "markdown",
   "metadata": {
    "slideshow": {
     "slide_type": "slide"
    }
   },
   "source": [
    "### 网络科学理论\n",
    "\n",
    "***\n",
    "***\n",
    "# 网络科学简介\n",
    "***\n",
    "***\n",
    "\n",
    "王成军 \n",
    "\n",
    "wangchengjun@nju.edu.cn\n",
    "\n",
    "计算传播网 http://computational-communication.com"
   ]
  },
  {
   "cell_type": "markdown",
   "metadata": {
    "slideshow": {
     "slide_type": "slide"
    }
   },
   "source": [
    "# FROM SADDAM HUSSEIN TO NETWORK THEORY \n",
    "### A SIMPLE STORY (1)      The fate of Saddam and network science\n",
    "\n",
    "- SADDAM HUSSEIN: the fifth President of **Iraq**, serving in this capacity from 16 July 1979 until 9 April **2003**\n",
    "- Invasion that started in March 19,  2003. Many of the regime's high ranking officials, including Saddam Hussein, avoided capture. \n",
    "- Hussein was last spotted kissing a baby in Baghdad in April 2003, and then his trace went cold. \n",
    "\n",
    "- Designed a deck of cards, each card engraved with the images of the 55 most wanted. \n",
    "    - It worked: by May 1, 2003, 15 men on the cards were captured, and by the end of the month another 12 were under custody. \n",
    "    - Yet, the ace of spades, i.e. Hussein himself, remained at large.\n",
    "\n",
    "\n",
    "\n"
   ]
  },
  {
   "cell_type": "markdown",
   "metadata": {
    "collapsed": true,
    "slideshow": {
     "slide_type": "slide"
    }
   },
   "source": [
    "<img src = './img/saddam.png' width = 500>"
   ]
  },
  {
   "cell_type": "markdown",
   "metadata": {
    "collapsed": true,
    "slideshow": {
     "slide_type": "slide"
    }
   },
   "source": [
    "# The capture of Saddam Hussein\n",
    "\n",
    "- shows the strong **predictive power** of networks.  \n",
    "\n",
    "- underlies the need to obtain **accurate maps of the networks** we aim to study; \n",
    "- and the often heroic **difficulties of the mapping** process.\n",
    "\n",
    "- demonstrates the remarkable **stability of these networks**\n",
    "    - The capture of Hussein was not based on fresh intelligence\n",
    "    - but rather on his **pre-invasion social links**, unearthed from old photos stacked in his family album.\n",
    "\n",
    "- shows that the choice of network we focus on makes a huge difference: \n",
    "    - the **hierarchical tree** captured the official organization of the Iraqi government, \n",
    "    - was of no use when it came to Saddam Hussein's whereabouts.  \n"
   ]
  },
  {
   "cell_type": "markdown",
   "metadata": {
    "ExecuteTime": {
     "end_time": "2017-05-20T19:50:48.430148",
     "start_time": "2017-05-20T19:50:48.418809"
    },
    "slideshow": {
     "slide_type": "subslide"
    }
   },
   "source": [
    "## How about Osama bin Laden?\n",
    "\n",
    "- the founder of al-Qaeda, the organization that claimed responsibility for the September 11 attacks on the United States.\n",
    "\n",
    "> 2005年9月1日，中情局内部关于猎杀本·拉登任务的布告栏上贴出了如下信息：由于关押囚犯的强化刑讯已经没有任何意义，“我们只能继续跟踪科威特”。`中情局自此开始了对科威特长达数年的跟踪，最终成功窃听到了他本·拉登之间的移动电话，从确定了他的位置并顺藤摸瓜找到了本·拉登在巴基斯坦的豪宅`，再经过9个月的证实、部署，于2011年5月1日由海豹突击队发动突袭、击毙本·拉登。"
   ]
  },
  {
   "cell_type": "markdown",
   "metadata": {
    "collapsed": true,
    "slideshow": {
     "slide_type": "slide"
    }
   },
   "source": [
    "# A SIMPLE STORY (2): August 15, 2003 blackout.\n",
    "\n",
    "<img src='./img/blackout.png' width = 800>\n"
   ]
  },
  {
   "cell_type": "markdown",
   "metadata": {
    "collapsed": true,
    "slideshow": {
     "slide_type": "slide"
    }
   },
   "source": [
    "# VULNERABILITY \n",
    "DUE TO INTERCONNECTIVITY \n",
    "\n",
    "- The 2003 blackout is a typical example of a cascading failure. \n",
    "- 1997, when the International Monetary Fund pressured the central banks of several Pacific nations to limit their credit. \n",
    "- 2009-2011 financial melt-down"
   ]
  },
  {
   "cell_type": "markdown",
   "metadata": {
    "collapsed": true,
    "slideshow": {
     "slide_type": "slide"
    }
   },
   "source": [
    "An important theme of this class:  \n",
    "\n",
    "- we must understand **how network structure affects the robustness of a complex system**. \n",
    "\n",
    "- develop quantitative tools to assess the interplay between network structure and the dynamical processes on the networks, and their impact on failures.  \n",
    "\n",
    "- We will learn that failures reality failures follow reproducible laws, that can be quantified and even predicted using the tools of network science.\n"
   ]
  },
  {
   "cell_type": "markdown",
   "metadata": {
    "collapsed": true,
    "slideshow": {
     "slide_type": "slide"
    }
   },
   "source": [
    "NETWORKS AT THE HEART OF \n",
    "# COMPLEX SYSTEMS \n"
   ]
  },
  {
   "cell_type": "markdown",
   "metadata": {
    "collapsed": true,
    "slideshow": {
     "slide_type": "slide"
    }
   },
   "source": [
    "# Complex\n",
    "\n",
    "[adj., v. kuh m-pleks, kom-pleks; n. kom-pleks] \n",
    "–adjective \n",
    "- composed of many interconnected parts; compound; composite: a complex highway system. \n",
    "- characterized by a very complicated or involved arrangement of parts, units, etc.: complex machinery. \n",
    "- so complicated or intricate as to be hard to understand or deal with: a complex problem. \n",
    "\t\t\t\tSource: Dictionary.com\n"
   ]
  },
  {
   "cell_type": "markdown",
   "metadata": {
    "collapsed": true,
    "slideshow": {
     "slide_type": "slide"
    }
   },
   "source": [
    "\n",
    "# Complexity\n",
    "\n",
    "a scientific theory which asserts that some systems display behavioral phenomena that are completely inexplicable by any conventional analysis of the systems’ constituent parts. These phenomena, commonly referred to as emergent behaviour, seem to occur in many complex systems involving living organisms, such as a stock market or the human brain.\n",
    " \n",
    "Source: John L. Casti, Encyclopædia Britannica\n",
    " \n"
   ]
  },
  {
   "cell_type": "markdown",
   "metadata": {
    "collapsed": true,
    "slideshow": {
     "slide_type": "slide"
    }
   },
   "source": [
    "# COMPLEX SYSTEMS\n",
    "\n",
    "- society\n",
    "- brain\n",
    "- market\n",
    "- cell\n",
    "\n",
    "## Stephen Hawking: I think the next century will be the century of complexity. "
   ]
  },
  {
   "cell_type": "markdown",
   "metadata": {
    "collapsed": true,
    "slideshow": {
     "slide_type": "slide"
    }
   },
   "source": [
    "# Behind each complex system there is a network, that defines the interactions between the component. \n"
   ]
  },
  {
   "cell_type": "markdown",
   "metadata": {
    "collapsed": true,
    "slideshow": {
     "slide_type": "slide"
    }
   },
   "source": [
    "<img src = './img/facebook.png' width = 800>"
   ]
  },
  {
   "cell_type": "markdown",
   "metadata": {
    "collapsed": true,
    "slideshow": {
     "slide_type": "slide"
    }
   },
   "source": [
    "- Social graph\n",
    "- Organization\n",
    "- Brain\n",
    "- finantial network\n",
    "- business \n",
    "- Internet\n",
    "- Genes"
   ]
  },
  {
   "cell_type": "markdown",
   "metadata": {
    "collapsed": true,
    "slideshow": {
     "slide_type": "slide"
    }
   },
   "source": [
    "Behind each system studied in complexity there is an intricate wiring diagram, or a network, that defines the interactions between the component.   \n",
    "\n",
    "# We will never understand complex system unless we map out and understand the networks behind them.\n",
    "  \n"
   ]
  },
  {
   "cell_type": "markdown",
   "metadata": {
    "collapsed": true,
    "slideshow": {
     "slide_type": "slide"
    }
   },
   "source": [
    "# TWO FORCES HELPED THE EMERGENCE OF NETWORK SCIENCE \n"
   ]
  },
  {
   "cell_type": "markdown",
   "metadata": {
    "collapsed": true,
    "slideshow": {
     "slide_type": "slide"
    }
   },
   "source": [
    "# THE HISTORY OF NETWORK ANALYSIS\n",
    "\n",
    "- Graph theory: 1735, Euler\n",
    "\n",
    "- Social Network Research:  1930s, Moreno\n",
    "\n",
    "- Communication networks/internet: 1960s\n",
    "\n",
    "- Ecological Networks: May, 1979.\n"
   ]
  },
  {
   "cell_type": "markdown",
   "metadata": {
    "collapsed": true,
    "slideshow": {
     "slide_type": "slide"
    }
   },
   "source": [
    "\n",
    "While the study of networks has a long history from graph theory to sociology, **the modern chapter of network science emerged only during the first decade of the 21st century, following the publication of two seminal papers in 1998 and 1999**. \n",
    "\n",
    "The explosive interest in network science is well documented by the citation pattern of two classic network papers, the 1959 paper by Paul Erdos and Alfréd Rényi that marks the beginning of the study of random networks in graph theory [4] and the 1973 paper by Mark Granovetter, the most cited social network paper [5]. \n",
    "\n",
    "Both papers were hardly or only moderately cited before 2000. The explosive growth of citations to these papers in the 21st century documents the emergence of network science, drawing a new, interdisciplinary audience to these classic publications. \n"
   ]
  },
  {
   "cell_type": "markdown",
   "metadata": {
    "collapsed": true,
    "slideshow": {
     "slide_type": "slide"
    }
   },
   "source": [
    "<img src = './img/citation.png' width = 500>"
   ]
  },
  {
   "cell_type": "markdown",
   "metadata": {
    "collapsed": true,
    "slideshow": {
     "slide_type": "slide"
    }
   },
   "source": [
    "# THE EMERGENCE OF NETWORK SCIENCE\n",
    "- Movie Actor Network,  1998;\n",
    "- World Wide Web,  1999.\n",
    "- C elegans neural wiring diagram 1990\n",
    "- Citation Network,  1998\n",
    "- Metabolic Network, 2000; \n",
    "- PPI network, 2001\n"
   ]
  },
  {
   "cell_type": "markdown",
   "metadata": {
    "collapsed": true,
    "slideshow": {
     "slide_type": "slide"
    }
   },
   "source": [
    "# The universality of network characteristics: \n",
    "The architecture of networks emerging in various domains of science, nature, and technology are more similar to each other than one would have expected. \n"
   ]
  },
  {
   "cell_type": "markdown",
   "metadata": {
    "collapsed": true,
    "slideshow": {
     "slide_type": "slide"
    }
   },
   "source": [
    "# THE CHARACTERISTICS OF NETWORK SCIENCE \n",
    "- Interdisciplinary \n",
    "- Empirical\n",
    "- Quantitative and Mathematical \n",
    "- Computational \n"
   ]
  },
  {
   "cell_type": "markdown",
   "metadata": {
    "collapsed": true,
    "slideshow": {
     "slide_type": "slide"
    }
   },
   "source": [
    "# THE IMPACT OF NETWORK SCIENCE \n"
   ]
  },
  {
   "cell_type": "markdown",
   "metadata": {
    "collapsed": true,
    "slideshow": {
     "slide_type": "slide"
    }
   },
   "source": [
    "# Google\n",
    "Market Cap(2010 Jan 1): \n",
    "$189 billion\n",
    "\n",
    "# Cisco Systems\n",
    "networking gear Market cap (Jan 1, 2919): \n",
    "$112 billion\n",
    "\n",
    "# Facebook\n",
    "market cap: \n",
    "$50 billion\n"
   ]
  },
  {
   "cell_type": "markdown",
   "metadata": {
    "collapsed": true,
    "slideshow": {
     "slide_type": "slide"
    }
   },
   "source": [
    "# Health: From drug design to metabolic engineering. \n",
    "The human genome project, completed in 2001, offered the first comprehensive list of all human genes. \n",
    "\n",
    "- Yet, to fully understand how our cells function, and the origin of disease, \n",
    "- we need accurate maps that tell us how these genes and other cellular components interact with each other. "
   ]
  },
  {
   "cell_type": "markdown",
   "metadata": {
    "collapsed": true,
    "slideshow": {
     "slide_type": "slide"
    }
   },
   "source": [
    "# Security: Fighting Terrorism. \n",
    "Terrorism is one of the maladies of the 21st century, absorbing significant resources to combat it worldwide. \n",
    "\n",
    "- **Network thinking** is increasingly present in the arsenal of various law enforcement agencies in charge of limiting terrorist activities. \n",
    "    - To disrupt the financial network of terrorist organizations\n",
    "    - to map terrorist networks\n",
    "    - to uncover the role of their members and their capabilities. \n",
    "    \n",
    "- Using social networks to capture Saddam Hussein\n",
    "- Capturing of the individuals behind the March 11, 2004 Madrid train bombings **through the examination of the mobile call network**. \n"
   ]
  },
  {
   "cell_type": "markdown",
   "metadata": {
    "collapsed": true,
    "slideshow": {
     "slide_type": "slide"
    }
   },
   "source": [
    "# Epidemics: From forecasting to halting deadly viruses. \n",
    "\n",
    "While the **H1N1 pandemic** was not as devastating as it was feared at the beginning of the outbreak in 2009, it gained a special role in the history of epidemics: it was **the first pandemic whose course and time evolution was accurately predicted months before the pandemic reached its peak**. \n",
    "\n",
    "- Before 2000 epidemic modeling was dominated by **compartment models**, assuming that everyone can infect everyone else one word the same socio-physical compartment. \n",
    "- The emergence of a network-based framework has fundamentally changed this, offering a new level of predictability in epidemic phenomena. \n",
    "\n",
    "### In January 2010 network science tools have predicted the conditions necessary for the emergence of viruses spreading through mobile phones. \n",
    "\n",
    "### The first major mobile epidemic outbreak\n",
    " in the fall of 2010 in China, infecting over 300,000 phones each day, closely followed the predicted scenario. \n"
   ]
  },
  {
   "cell_type": "markdown",
   "metadata": {
    "collapsed": true,
    "slideshow": {
     "slide_type": "slide"
    }
   },
   "source": [
    "# Brain Research: Mapping neural network. \n",
    "The human brain, consisting of hundreds of billions of interlinked neurons, is one of the least understood networks from the perspective of network science. \n",
    "\n",
    "The reason is simple: \n",
    "- we lack maps telling us which neurons link to each other. \n",
    "- The only fully mapped neural map available for research is that of the C.Elegans worm, with only 300 neurons. \n",
    "\n",
    "Driven by the potential impact of such maps, in 2010 the **National Institutes of Health** has initiated the Connectome project, aimed at developing the technologies that could provide an accurate neuron-level map of mammalian brains. \n"
   ]
  },
  {
   "cell_type": "markdown",
   "metadata": {
    "collapsed": true,
    "slideshow": {
     "slide_type": "slide"
    }
   },
   "source": [
    "# The Bridges of Konigsberg\n"
   ]
  },
  {
   "cell_type": "markdown",
   "metadata": {
    "collapsed": true,
    "slideshow": {
     "slide_type": "slide"
    }
   },
   "source": [
    "<img src = './img/konigsberg.png' width = 500>"
   ]
  },
  {
   "cell_type": "markdown",
   "metadata": {
    "slideshow": {
     "slide_type": "fragment"
    }
   },
   "source": [
    "# Can one walk across the seven bridges and never cross the same bridge twice and get back to the starting place?     \n"
   ]
  },
  {
   "cell_type": "markdown",
   "metadata": {
    "slideshow": {
     "slide_type": "subslide"
    }
   },
   "source": [
    "Can one walk across the seven bridges and never cross the same bridge twice and get back to the starting place?     \n",
    "\n",
    "<img src ='./img/euler.png' width = 300>"
   ]
  },
  {
   "cell_type": "markdown",
   "metadata": {
    "collapsed": true,
    "slideshow": {
     "slide_type": "slide"
    }
   },
   "source": [
    "# Euler’s theorem (1735):\n",
    "\n",
    "- If a graph has more than two nodes of odd degree, there is no path. \n",
    "- If a graph is connected and has no odd degree nodes, it has at least one path.\n"
   ]
  },
  {
   "cell_type": "markdown",
   "metadata": {
    "slideshow": {
     "slide_type": "slide"
    }
   },
   "source": [
    "COMPONENTS OF A COMPLEX SYSTEM\n",
    "\n",
    "# Networks and graphs\n",
    " - components: nodes, vertices\t\t  N\n",
    " - interactions:  links, edges\t\t\t   L\n",
    " - system:  \t  network, graph\t\t(N,L)\n"
   ]
  },
  {
   "cell_type": "markdown",
   "metadata": {
    "slideshow": {
     "slide_type": "subslide"
    }
   },
   "source": [
    "network often refers to real systems\n",
    "- www, \n",
    "- social network\n",
    "- metabolic network. \n",
    "\n",
    "Language: (Network, node, link)\n"
   ]
  },
  {
   "cell_type": "markdown",
   "metadata": {
    "slideshow": {
     "slide_type": "subslide"
    }
   },
   "source": [
    "graph: mathematical representation of a network\n",
    "- web graph, \n",
    "- social graph (a Facebook term)\n",
    "\n",
    "Language: (Graph, vertex, edge)\n",
    "\n",
    "\n",
    "# G(N, L)"
   ]
  },
  {
   "cell_type": "markdown",
   "metadata": {
    "slideshow": {
     "slide_type": "subslide"
    }
   },
   "source": [
    "<img src = './img/net.png' width = 800>"
   ]
  },
  {
   "cell_type": "markdown",
   "metadata": {
    "slideshow": {
     "slide_type": "subslide"
    }
   },
   "source": [
    "# CHOOSING A PROPER REPRESENTATION\n",
    "\n",
    "The choice of the proper network representation determines our ability to use network theory successfully.\n",
    "\n",
    "In some cases there is a unique, unambiguous representation. \n",
    "In other cases, the representation is by no means unique.\n",
    " \n",
    "For example, the way we assign the links between a group of individuals will determine the nature of the question we can study.\n"
   ]
  },
  {
   "cell_type": "markdown",
   "metadata": {
    "slideshow": {
     "slide_type": "slide"
    }
   },
   "source": [
    "If you connect individuals that work with each other, you will explore the professional network.\n",
    "\n",
    "http://www.theyrule.net"
   ]
  },
  {
   "cell_type": "markdown",
   "metadata": {
    "collapsed": true,
    "slideshow": {
     "slide_type": "subslide"
    }
   },
   "source": [
    "If you connect those that have a romantic and sexual relationship, you will be exploring the sexual networks.\n"
   ]
  },
  {
   "cell_type": "markdown",
   "metadata": {
    "collapsed": true,
    "slideshow": {
     "slide_type": "subslide"
    }
   },
   "source": [
    "If you connect individuals based on their first name (all Peters connected to each other), you will be exploring what? \n",
    "\n",
    "# It is a network, nevertheless.\n"
   ]
  },
  {
   "cell_type": "markdown",
   "metadata": {
    "collapsed": true,
    "slideshow": {
     "slide_type": "subslide"
    }
   },
   "source": [
    "# UNDIRECTED VS. DIRECTED NETWORKS\n"
   ]
  },
  {
   "cell_type": "markdown",
   "metadata": {
    "collapsed": true,
    "slideshow": {
     "slide_type": "subslide"
    }
   },
   "source": [
    "# Undirected\n",
    "Links: undirected\n",
    "- co-authorship \n",
    "- actor network\n",
    "- protein interactions"
   ]
  },
  {
   "cell_type": "code",
   "execution_count": 20,
   "metadata": {
    "ExecuteTime": {
     "end_time": "2019-06-15T08:57:53.918950Z",
     "start_time": "2019-06-15T08:57:53.064659Z"
    },
    "slideshow": {
     "slide_type": "subslide"
    }
   },
   "outputs": [
    {
     "data": {
      "image/png": "[encoded data removed]",
      "text/plain": [
       "<Figure size 432x288 with 1 Axes>"
      ]
     },
     "metadata": {},
     "output_type": "display_data"
    }
   ],
   "source": [
    "%matplotlib inline\n",
    "import matplotlib.pyplot as plt\n",
    "\n",
    "import networkx as nx\n",
    "Gu = nx.Graph()\n",
    "for i, j in [(1, 2), (1, 4), (4, 2), (4, 3)]:\n",
    "    Gu.add_edge(i,j)\n",
    "nx.draw(Gu, with_labels = True)"
   ]
  },
  {
   "cell_type": "markdown",
   "metadata": {
    "collapsed": true,
    "slideshow": {
     "slide_type": "subslide"
    }
   },
   "source": [
    "# Directed\n",
    "Links: directed\n",
    "- urls on the www\n",
    "- phone calls\n",
    "- metabolic reactions"
   ]
  },
  {
   "cell_type": "code",
   "execution_count": 21,
   "metadata": {
    "ExecuteTime": {
     "end_time": "2019-06-15T08:58:37.492794Z",
     "start_time": "2019-06-15T08:58:37.347665Z"
    },
    "slideshow": {
     "slide_type": "subslide"
    }
   },
   "outputs": [
    {
     "data": {
      "image/png": "[encoded data removed]",
      "text/plain": [
       "<Figure size 432x288 with 1 Axes>"
      ]
     },
     "metadata": {},
     "output_type": "display_data"
    }
   ],
   "source": [
    "import networkx as nx\n",
    "Gd = nx.DiGraph()\n",
    "for i, j in [(1, 2), (1, 4), (4, 2), (4, 3)]:\n",
    "    Gd.add_edge(i,j)\n",
    "nx.draw(Gd, with_labels = True, pos=nx.circular_layout(Gd))"
   ]
  },
  {
   "cell_type": "markdown",
   "metadata": {
    "collapsed": true,
    "slideshow": {
     "slide_type": "subslide"
    }
   },
   "source": [
    "<img src = './img/networks.png' width = 1000>"
   ]
  },
  {
   "cell_type": "markdown",
   "metadata": {
    "collapsed": true,
    "slideshow": {
     "slide_type": "subslide"
    }
   },
   "source": [
    "# Degree, Average Degree and Degree Distribution\n"
   ]
  },
  {
   "cell_type": "code",
   "execution_count": 19,
   "metadata": {
    "slideshow": {
     "slide_type": "subslide"
    }
   },
   "outputs": [
    {
     "data": {
      "image/png": "[encoded data removed]",
      "text/plain": [
       "<Figure size 432x288 with 1 Axes>"
      ]
     },
     "metadata": {},
     "output_type": "display_data"
    }
   ],
   "source": [
    "nx.draw(Gu, with_labels = True)"
   ]
  },
  {
   "cell_type": "markdown",
   "metadata": {
    "collapsed": true,
    "slideshow": {
     "slide_type": "subslide"
    }
   },
   "source": [
    "# Undirected network: \n",
    "Node degree: the number of links connected to the node.\n",
    "## $k_1 = k_2 = 2, k_3 = 3, k_4 = 1$"
   ]
  },
  {
   "cell_type": "code",
   "execution_count": 24,
   "metadata": {
    "ExecuteTime": {
     "end_time": "2018-05-05T10:48:27.253744Z",
     "start_time": "2018-05-05T10:48:27.170334Z"
    },
    "slideshow": {
     "slide_type": "subslide"
    }
   },
   "outputs": [
    {
     "data": {
      "image/png": "[encoded data removed]",
      "text/plain": [
       "<Figure size 432x288 with 1 Axes>"
      ]
     },
     "metadata": {},
     "output_type": "display_data"
    }
   ],
   "source": [
    "nx.draw(Gd, with_labels = True, pos=nx.circular_layout(Gd))"
   ]
  },
  {
   "cell_type": "markdown",
   "metadata": {
    "collapsed": true,
    "slideshow": {
     "slide_type": "subslide"
    }
   },
   "source": [
    "# Directed network\n",
    "In directed networks we can define an in-degree and out-degree. The (total) degree is the sum of in-and out-degree.\n",
    "\n",
    "##  $k_3^{in} = 2, k_3^{out} = 1, k_3 = 3$\n",
    "\n",
    "Source: a node with $k^{in}= 0$; Sink: a node with $k^{out}= 0$.\n"
   ]
  },
  {
   "cell_type": "markdown",
   "metadata": {
    "collapsed": true,
    "slideshow": {
     "slide_type": "subslide"
    }
   },
   "source": [
    "For a sample of N values: $x_1, x_2, ..., x_N$:\n",
    "\n",
    "# Average(mean):\n",
    "\n",
    "## $<x> = \\frac{x_1 +x_2 + ...+x_N}{N} = \\frac{1}{N}\\sum_{i = 1}^{N} x_i$ "
   ]
  },
  {
   "cell_type": "markdown",
   "metadata": {
    "collapsed": true,
    "slideshow": {
     "slide_type": "subslide"
    }
   },
   "source": [
    "For a sample of N values: $x_1, x_2, ..., x_N$:\n",
    "\n",
    "# The nth moment:\n",
    "\n",
    "## $<x^n> = \\frac{x_1^n +x_2^n + ...+x_N^n}{N} = \\frac{1}{N}\\sum_{i = 1}^{N} x_i^n$ "
   ]
  },
  {
   "cell_type": "markdown",
   "metadata": {
    "collapsed": true,
    "slideshow": {
     "slide_type": "subslide"
    }
   },
   "source": [
    "For a sample of N values: $x_1, x_2, ..., x_N$:\n",
    "\n",
    "# Standard deviation:\n",
    "\n",
    "## $\\sigma_x = \\sqrt{\\frac{1}{N}\\sum_{i = 1}^{N} (x_i - <x>)^2}$ "
   ]
  },
  {
   "cell_type": "code",
   "execution_count": 23,
   "metadata": {
    "ExecuteTime": {
     "end_time": "2017-05-20T22:52:18.822437",
     "start_time": "2017-05-20T22:52:18.816854"
    },
    "slideshow": {
     "slide_type": "subslide"
    }
   },
   "outputs": [
    {
     "data": {
      "text/plain": [
       "(1.6666666666666667, 10, 0.7453559924999299)"
      ]
     },
     "execution_count": 23,
     "metadata": {},
     "output_type": "execute_result"
    }
   ],
   "source": [
    "import numpy as np\n",
    "x = [1, 1, 1, 2, 2, 3]\n",
    "np.mean(x), np.sum(x), np.std(x)"
   ]
  },
  {
   "cell_type": "markdown",
   "metadata": {
    "collapsed": true,
    "slideshow": {
     "slide_type": "subslide"
    }
   },
   "source": [
    "For a sample of N values: $x_1, x_2, ..., x_N$:\n",
    "\n",
    "# Distribution of x:\n",
    "\n",
    "## $p_x = \\frac{The \\: frequency \\: of \\: x}{The\\: Number \\:of\\: Observations}$\n",
    "\n",
    "其中，$p_x 满足 \\sum_i p_x = 1$"
   ]
  },
  {
   "cell_type": "code",
   "execution_count": 24,
   "metadata": {
    "ExecuteTime": {
     "end_time": "2017-05-20T22:52:22.051941",
     "start_time": "2017-05-20T22:52:21.864640"
    },
    "slideshow": {
     "slide_type": "subslide"
    }
   },
   "outputs": [
    {
     "data": {
      "image/png": "[encoded data removed]",
      "text/plain": [
       "<Figure size 432x288 with 1 Axes>"
      ]
     },
     "metadata": {
      "needs_background": "light"
     },
     "output_type": "display_data"
    }
   ],
   "source": [
    "# 直方图\n",
    "plt.hist(x)\n",
    "plt.show()"
   ]
  },
  {
   "cell_type": "code",
   "execution_count": 43,
   "metadata": {
    "ExecuteTime": {
     "end_time": "2017-05-20T22:53:12.228948",
     "start_time": "2017-05-20T22:53:12.222577"
    },
    "slideshow": {
     "slide_type": "subslide"
    }
   },
   "outputs": [
    {
     "data": {
      "text/plain": [
       "Counter({1: 3, 2: 2, 3: 1})"
      ]
     },
     "execution_count": 43,
     "metadata": {},
     "output_type": "execute_result"
    }
   ],
   "source": [
    "from collections import defaultdict, Counter\n",
    "# freq = defaultdict(int) \n",
    "freq = Counter()\n",
    "for i in x:\n",
    "    freq[i] +=1\n",
    "freq"
   ]
  },
  {
   "cell_type": "code",
   "execution_count": 44,
   "metadata": {
    "ExecuteTime": {
     "end_time": "2017-05-20T22:53:16.580337",
     "start_time": "2017-05-20T22:53:16.575781"
    },
    "slideshow": {
     "slide_type": "subslide"
    }
   },
   "outputs": [
    {
     "data": {
      "text/plain": [
       "6"
      ]
     },
     "execution_count": 44,
     "metadata": {},
     "output_type": "execute_result"
    }
   ],
   "source": [
    "freq_sum = np.sum(list(freq.values()))\n",
    "freq_sum"
   ]
  },
  {
   "cell_type": "code",
   "execution_count": 45,
   "metadata": {
    "ExecuteTime": {
     "end_time": "2017-05-20T22:53:17.449486",
     "start_time": "2017-05-20T22:53:17.444514"
    },
    "slideshow": {
     "slide_type": "subslide"
    }
   },
   "outputs": [
    {
     "data": {
      "text/plain": [
       "[0.5, 0.3333333333333333, 0.16666666666666666]"
      ]
     },
     "execution_count": 45,
     "metadata": {},
     "output_type": "execute_result"
    }
   ],
   "source": [
    "px = [float(i)/freq_sum for i in freq.values()]\n",
    "px"
   ]
  },
  {
   "cell_type": "code",
   "execution_count": 46,
   "metadata": {
    "ExecuteTime": {
     "end_time": "2017-05-20T22:53:30.898701",
     "start_time": "2017-05-20T22:53:30.717662"
    },
    "slideshow": {
     "slide_type": "subslide"
    }
   },
   "outputs": [
    {
     "data": {
      "image/png": "[encoded data removed]",
      "text/plain": [
       "<Figure size 432x288 with 1 Axes>"
      ]
     },
     "metadata": {
      "needs_background": "light"
     },
     "output_type": "display_data"
    }
   ],
   "source": [
    "plt.plot(freq.keys(), px, 'r-o')\n",
    "plt.show()"
   ]
  },
  {
   "cell_type": "markdown",
   "metadata": {
    "slideshow": {
     "slide_type": "slide"
    }
   },
   "source": [
    "# Average Degree"
   ]
  },
  {
   "cell_type": "markdown",
   "metadata": {
    "slideshow": {
     "slide_type": "subslide"
    }
   },
   "source": [
    "## Undirected\n",
    "\n",
    "# $<k> = \\frac{1}{N} \\sum_{i = 1}^{N} k_i  = \\frac{2L}{N}$\n"
   ]
  },
  {
   "cell_type": "markdown",
   "metadata": {
    "slideshow": {
     "slide_type": "subslide"
    }
   },
   "source": [
    "## Directed\n",
    "# $<k^{in}> = \\frac{1}{N} \\sum_{i=1}^N k_i^{in}= <k^{out}> = \\frac{1}{N} \\sum_{i=1}^N k_i^{out} = \\frac{L}{N}$ "
   ]
  },
  {
   "cell_type": "markdown",
   "metadata": {
    "slideshow": {
     "slide_type": "slide"
    }
   },
   "source": [
    "# Degree distribution \n",
    "P(k): probability that a randomly selected node  has degree k\n",
    "\n",
    "\n",
    "$N_k = The \\:number\\: of \\:nodes\\:with \\:degree\\: k$\n",
    "\n",
    "## $P(k) = \\frac{N_k}{N}$\n",
    "\n"
   ]
  },
  {
   "cell_type": "markdown",
   "metadata": {
    "slideshow": {
     "slide_type": "slide"
    }
   },
   "source": [
    "# Adjacency matrix\n",
    "$A_{ij} =1$ if there is a link between node i and j\n",
    "\n",
    "$A_{ij} =0$ if there is no link between node i and j"
   ]
  },
  {
   "cell_type": "code",
   "execution_count": 50,
   "metadata": {
    "ExecuteTime": {
     "end_time": "2018-05-05T10:49:16.096063Z",
     "start_time": "2018-05-05T10:49:15.969452Z"
    },
    "slideshow": {
     "slide_type": "slide"
    }
   },
   "outputs": [
    {
     "data": {
      "image/png": "[encoded data removed]",
      "text/plain": [
       "<Figure size 432x288 with 2 Axes>"
      ]
     },
     "metadata": {},
     "output_type": "display_data"
    }
   ],
   "source": [
    "plt.figure(1)\n",
    "plt.subplot(121)\n",
    "pos = nx.circular_layout(Gu)  #定义一个布局，此处采用了spring布局方式\n",
    "# pos = nx.spring_layout(Gu) \n",
    "nx.draw(Gu, pos, with_labels = True)\n",
    "plt.subplot(122)\n",
    "nx.draw(Gd, pos, with_labels = True)"
   ]
  },
  {
   "cell_type": "markdown",
   "metadata": {
    "slideshow": {
     "slide_type": "subslide"
    }
   },
   "source": [
    "# Undirected\n",
    "$A_{ij} =1$ if there is a link between node i and j\n",
    "\n",
    "$A_{ij} =0$ if there is no link between node i and j\n",
    "\n",
    "## $A_{ij}=\\begin{bmatrix} 0&1  &0  &1 \\\\ 1&0  &0  &1 \\\\ 0 &0  &0  &1 \\\\ 1&1  &1  & 0 \\end{bmatrix}$"
   ]
  },
  {
   "cell_type": "markdown",
   "metadata": {
    "slideshow": {
     "slide_type": "subslide"
    }
   },
   "source": [
    "# Undirected\n",
    "\n",
    "无向网络的矩阵是对称的。\n",
    "\n",
    "## $A_{ij} = A_{ji} , \\: A_{ii} = 0$\n",
    "\n",
    "## $k_i = \\sum_{j=1}^N A_{ij}, \\: k_j = \\sum_{i=1}^N A_{ij} $\n",
    "\n",
    "网络中的链接数量$L$可以表达为：\n",
    "\n",
    "## $ L = \\frac{1}{2}\\sum_{i=1}^N k_i = \\frac{1}{2}\\sum_{ij}^N A_{ij} $"
   ]
  },
  {
   "cell_type": "markdown",
   "metadata": {
    "slideshow": {
     "slide_type": "subslide"
    }
   },
   "source": [
    "# Directed\n",
    "$A_{ij} =1$ if there is a link between node i and j\n",
    "\n",
    "$A_{ij} =0$ if there is no link between node i and j\n",
    "\n",
    "## $A_{ij}=\\begin{bmatrix} 0&0  &0  &0 \\\\ 1&0  &0  &1 \\\\ 0 &0  &0  &1 \\\\ 1&0  &0  & 0 \\end{bmatrix}$\n",
    "\n",
    "Note that for a directed graph the matrix is not symmetric.\n"
   ]
  },
  {
   "cell_type": "markdown",
   "metadata": {
    "slideshow": {
     "slide_type": "slide"
    }
   },
   "source": [
    "# Directed\n",
    "## $A_{ij} \\neq A_{ji}, \\: A_{ii} = 0$\n",
    "## $k_i^{in} = \\sum_{j=1}^N A_{ji}, \\: k_j^{out} = \\sum_{i=1}^N A_{ij} $\n",
    "## $ L = \\sum_{i=1}^N k_i^{in} = \\sum_{j=1}^N k_j^{out}= \\frac{1}{2}\\sum_{i,j}^N A_{ij} $"
   ]
  },
  {
   "cell_type": "markdown",
   "metadata": {
    "slideshow": {
     "slide_type": "slide"
    }
   },
   "source": [
    "# WEIGHTED AND UNWEIGHTED NETWORKS\n",
    "\n",
    "## $A_{ij} = W_{ij}$"
   ]
  },
  {
   "cell_type": "markdown",
   "metadata": {
    "slideshow": {
     "slide_type": "slide"
    }
   },
   "source": [
    "# BIPARTITE NETWORKS \n"
   ]
  },
  {
   "cell_type": "markdown",
   "metadata": {
    "collapsed": true,
    "slideshow": {
     "slide_type": "slide"
    }
   },
   "source": [
    "`bipartite graph` (or bigraph) is a graph whose nodes can be divided into two disjoint sets U and V such that every link connects a node in U to one in V; that is, U and V are independent sets. \n",
    "\n",
    "- Hits algorithm\n",
    "- recommendation system\n"
   ]
  },
  {
   "cell_type": "markdown",
   "metadata": {
    "slideshow": {
     "slide_type": "subslide"
    }
   },
   "source": [
    "<img src = './img/hits2.png' width = 400>"
   ]
  },
  {
   "cell_type": "code",
   "execution_count": 3,
   "metadata": {
    "ExecuteTime": {
     "end_time": "2019-06-16T01:26:29.730684Z",
     "start_time": "2019-06-16T01:26:29.720799Z"
    },
    "slideshow": {
     "slide_type": "subslide"
    }
   },
   "outputs": [],
   "source": [
    "import numpy as np\n",
    "edges = [('甲', '新辣道'), ('甲', '海底捞'), ('甲', '五方院'), \n",
    "         ('乙', '海底捞'), ('乙', '麦当劳'), ('乙', '俏江南'),\n",
    "         ('丙', '新辣道'), ('丙', '海底捞'),\n",
    "         ('丁', '新辣道'), ('丁', '五方院'), ('丁', '俏江南')]"
   ]
  },
  {
   "cell_type": "code",
   "execution_count": 4,
   "metadata": {
    "ExecuteTime": {
     "end_time": "2019-06-16T01:29:03.473500Z",
     "start_time": "2019-06-16T01:29:03.459237Z"
    },
    "slideshow": {
     "slide_type": "subslide"
    }
   },
   "outputs": [
    {
     "name": "stdout",
     "output_type": "stream",
     "text": [
      "0 steps\n",
      "{'新辣道': 3, '俏江南': 2, '五方院': 2, '海底捞': 3, '麦当劳': 1}\n",
      "{'丁': 7, '丙': 6, '乙': 6, '甲': 8}\n",
      "1 steps\n",
      "{'新辣道': 21, '俏江南': 13, '五方院': 15, '海底捞': 20, '麦当劳': 6}\n",
      "{'丁': 49, '丙': 41, '乙': 39, '甲': 56}\n",
      "2 steps\n",
      "{'新辣道': 146, '俏江南': 88, '五方院': 105, '海底捞': 136, '麦当劳': 39}\n",
      "{'丁': 339, '丙': 282, '乙': 263, '甲': 387}\n",
      "3 steps\n",
      "{'新辣道': 1008, '俏江南': 602, '五方院': 726, '海底捞': 932, '麦当劳': 263}\n",
      "{'丁': 2336, '丙': 1940, '乙': 1797, '甲': 2666}\n",
      "4 steps\n",
      "{'新辣道': 6942, '俏江南': 4133, '五方院': 5002, '海底捞': 6403, '麦当劳': 1797}\n",
      "{'丁': 16077, '丙': 13345, '乙': 12333, '甲': 18347}\n"
     ]
    }
   ],
   "source": [
    "h_dic = {i:1 for i,j in edges}\n",
    "for k in range(5):\n",
    "    print(k, 'steps')\n",
    "    a_dic = {j:0 for i, j in edges}\n",
    "    for i,j in edges:\n",
    "            a_dic[j]+=h_dic[i]\n",
    "    print(a_dic)\n",
    "    h_dic = {i:0 for i, j in edges}\n",
    "    for i, j in edges:\n",
    "        h_dic[i]+=a_dic[j]\n",
    "    print(h_dic)"
   ]
  },
  {
   "cell_type": "code",
   "execution_count": 120,
   "metadata": {
    "ExecuteTime": {
     "end_time": "2018-05-05T14:01:56.232039Z",
     "start_time": "2018-05-05T14:01:56.200950Z"
    },
    "slideshow": {
     "slide_type": "subslide"
    }
   },
   "outputs": [
    {
     "name": "stdout",
     "output_type": "stream",
     "text": [
      "{'海底捞': 0.2636544282409802, '俏江南': 0.17011696374819205, '五方院': 0.20624908818768029, '新辣道': 0.2861876476571226, '麦当劳': 0.07379187216602481}\n"
     ]
    }
   ],
   "source": [
    "def norm_dic(dic):\n",
    "    sumd = np.sum(list(dic.values()))\n",
    "    return {i : dic[i]/sumd for i in dic}\n",
    "    \n",
    "h = {i for i, j in edges}\n",
    "h_dic = {i:1/len(h) for i in h}\n",
    "for k in range(100):\n",
    "    a_dic = {j:0 for i, j in edges}\n",
    "    for i,j in edges: \n",
    "            a_dic[j]+=h_dic[i]\n",
    "    a_dic = norm_dic(a_dic)\n",
    "    h_dic = {i:0 for i, j in edges}\n",
    "    for i, j in edges:\n",
    "        h_dic[i]+=a_dic[j]\n",
    "    h_dic = norm_dic(h_dic)\n",
    "print(a_dic)"
   ]
  },
  {
   "cell_type": "code",
   "execution_count": 130,
   "metadata": {
    "ExecuteTime": {
     "end_time": "2018-05-05T14:15:33.010759Z",
     "start_time": "2018-05-05T14:15:32.999634Z"
    }
   },
   "outputs": [
    {
     "name": "stdout",
     "output_type": "stream",
     "text": [
      "{'麦当劳': 0.036895936147322755, '海底捞': 0.13182721414423623, '俏江南': 0.08505848191154151, '五方院': 0.10312454403576717, '新辣道': 0.14309382376113222}\n"
     ]
    }
   ],
   "source": [
    "B = nx.Graph()\n",
    "users, items = {i for i, j in edges}, {j for i, j in edges}\n",
    "for i, j in edges:\n",
    "    B.add_edge(i,j)\n",
    "h, a = nx.hits(B) \n",
    "print({i:a[i] for i in items} )\n",
    "# {j:h[j] for j in users}"
   ]
  },
  {
   "cell_type": "markdown",
   "metadata": {
    "ExecuteTime": {
     "end_time": "2018-05-05T11:09:53.460039Z",
     "start_time": "2018-05-05T11:09:53.455822Z"
    },
    "slideshow": {
     "slide_type": "subslide"
    }
   },
   "source": [
    "<img src = './img/pagerank.png' width = 400>"
   ]
  },
  {
   "cell_type": "code",
   "execution_count": 57,
   "metadata": {
    "ExecuteTime": {
     "end_time": "2019-06-16T01:34:57.083985Z",
     "start_time": "2019-06-16T01:34:56.218513Z"
    },
    "slideshow": {
     "slide_type": "subslide"
    }
   },
   "outputs": [
    {
     "data": {
      "image/png": "[encoded data removed]",
      "text/plain": [
       "<Figure size 432x288 with 1 Axes>"
      ]
     },
     "metadata": {},
     "output_type": "display_data"
    }
   ],
   "source": [
    "import networkx as nx\n",
    "Gp = nx.DiGraph()\n",
    "edges = [('a', 'b'), ('a', 'c'), ('b', 'd'), ('b', 'e'), ('c', 'f'), ('c', 'g'),\n",
    "        ('d', 'h'), ('d', 'a'), ('e', 'a'), ('e', 'h'), ('f', 'a'), ('g', 'a'), ('h', 'a')]\n",
    "for i, j in edges:\n",
    "    Gp.add_edge(i,j)\n",
    "nx.draw(Gp, with_labels = True, font_size = 16, font_color = 'black', alpha = 0.8,\n",
    "        pos = nx.kamada_kawai_layout(Gp))\n",
    "        #pos=nx.spring_layout(Gp, iterations = 5000))"
   ]
  },
  {
   "cell_type": "code",
   "execution_count": 75,
   "metadata": {
    "ExecuteTime": {
     "end_time": "2018-05-05T11:53:11.334949Z",
     "start_time": "2018-05-05T11:53:11.306472Z"
    },
    "scrolled": true,
    "slideshow": {
     "slide_type": "subslide"
    }
   },
   "outputs": [
    {
     "name": "stdout",
     "output_type": "stream",
     "text": [
      "1 : 0.5 0.0625 0.0625 0.0625 0.0625 0.0625 0.0625 0.125\n",
      "2 : 0.3125 0.25 0.25 0.03125 0.03125 0.03125 0.03125 0.0625\n",
      "3 : 0.15625 0.15625 0.15625 0.125 0.125 0.125 0.125 0.03125\n",
      "4 : 0.40625 0.078125 0.078125 0.078125 0.078125 0.078125 0.078125 0.125\n",
      "5 : 0.359375 0.203125 0.203125 0.0390625 0.0390625 0.0390625 0.0390625 0.078125\n",
      "6 : 0.1953125 0.1796875 0.1796875 0.1015625 0.1015625 0.1015625 0.1015625 0.0390625\n",
      "7 : 0.34375 0.09765625 0.09765625 0.08984375 0.08984375 0.08984375 0.08984375 0.1015625\n",
      "8 : 0.37109375 0.171875 0.171875 0.048828125 0.048828125 0.048828125 0.048828125 0.08984375\n",
      "9 : 0.236328125 0.185546875 0.185546875 0.0859375 0.0859375 0.0859375 0.0859375 0.048828125\n",
      "10 : 0.306640625 0.1181640625 0.1181640625 0.0927734375 0.0927734375 0.0927734375 0.0927734375 0.0859375\n"
     ]
    }
   ],
   "source": [
    "steps = 11\n",
    "n = 8\n",
    "a, b, c, d, e, f, g, h = [[1.0/n for i in range(steps)] for j in range(n)]\n",
    "for i in range(steps-1):\n",
    "    a[i+1] = 0.5*d[i] + 0.5*e[i] + h[i] + f[i] + g[i]\n",
    "    b[i+1] = 0.5*a[i]\n",
    "    c[i+1] = 0.5*a[i]\n",
    "    d[i+1] = 0.5*b[i]\n",
    "    e[i+1] = 0.5*b[i] \n",
    "    f[i+1] = 0.5*c[i]\n",
    "    g[i+1] = 0.5*c[i]\n",
    "    h[i+1] = 0.5*d[i] + 0.5*e[i]\n",
    "    print(i+1,':', a[i+1], b[i+1], c[i+1], d[i+1], e[i+1], f[i+1], g[i+1], h[i+1])  "
   ]
  },
  {
   "cell_type": "markdown",
   "metadata": {
    "ExecuteTime": {
     "end_time": "2018-05-05T12:45:45.265498Z",
     "start_time": "2018-05-05T12:45:45.261530Z"
    },
    "slideshow": {
     "slide_type": "subslide"
    }
   },
   "source": [
    "<img src = './img/pagerank_trap.png' width = 400>"
   ]
  },
  {
   "cell_type": "code",
   "execution_count": 113,
   "metadata": {
    "ExecuteTime": {
     "end_time": "2018-05-05T12:46:43.999604Z",
     "start_time": "2018-05-05T12:46:43.988179Z"
    },
    "slideshow": {
     "slide_type": "subslide"
    }
   },
   "outputs": [
    {
     "data": {
      "text/plain": [
       "{0: 0.06181813973848581,\n",
       " 1: 0.11515299000945314,\n",
       " 2: 0.1100340840842764,\n",
       " 3: 0.10714737750289352,\n",
       " 4: 0.10584740866489117,\n",
       " 5: 0.10584740866489117,\n",
       " 6: 0.10714737750289352,\n",
       " 7: 0.11003408408427638,\n",
       " 8: 0.11515299000945314,\n",
       " 9: 0.061818139738485794}"
      ]
     },
     "execution_count": 113,
     "metadata": {},
     "output_type": "execute_result"
    }
   ],
   "source": [
    "G = nx.DiGraph(nx.path_graph(10))\n",
    "pr = nx.pagerank(G, alpha=0.9)\n",
    "pr"
   ]
  },
  {
   "cell_type": "markdown",
   "metadata": {
    "collapsed": true,
    "slideshow": {
     "slide_type": "slide"
    }
   },
   "source": [
    "# Ingredient-Flavor Bipartite Network\n",
    "\n",
    "<img src = './img/bipartite.png' width = 800>"
   ]
  },
  {
   "cell_type": "markdown",
   "metadata": {
    "collapsed": true,
    "slideshow": {
     "slide_type": "slide"
    }
   },
   "source": [
    "# Path 路径\n",
    "A path is a sequence of nodes in which  each node is adjacent to the next one\n",
    "    \n",
    "   - In a directed network, the path can follow only the direction of an arrow. \n"
   ]
  },
  {
   "cell_type": "markdown",
   "metadata": {
    "collapsed": true,
    "slideshow": {
     "slide_type": "slide"
    }
   },
   "source": [
    "# Distance  距离\n",
    "\n",
    "The distance (shortest path, geodesic path) between two nodes is defined as the number of edges along the shortest path connecting them.\n",
    "\n",
    "> If the two nodes are disconnected, the distance is **infinity**.\n"
   ]
  },
  {
   "cell_type": "markdown",
   "metadata": {
    "collapsed": true,
    "slideshow": {
     "slide_type": "slide"
    }
   },
   "source": [
    "# Diameter 直径\n",
    "\n",
    "**Diameter $d_{max}$** is the maximum distance between any pair of nodes in the graph. \n"
   ]
  },
  {
   "cell_type": "markdown",
   "metadata": {
    "collapsed": true,
    "slideshow": {
     "slide_type": "slide"
    }
   },
   "source": [
    "# Shortest Path  最短路径\n",
    "The path with the shortest length between two nodes (distance). \n"
   ]
  },
  {
   "cell_type": "markdown",
   "metadata": {
    "collapsed": true,
    "slideshow": {
     "slide_type": "slide"
    }
   },
   "source": [
    "# Average path length/distance, $<d>$ 平均路径长度\n",
    "\n",
    "\n",
    "The average of the shortest paths for all pairs of nodes.\n",
    "\n",
    "\n",
    "- for a **directed graph**: where $d_{ij}$ is the distance from node i to node j\n",
    "\n",
    "## $<d> = \\frac{1}{2 L }\\sum_{i, j \\neq i} d_{ij}$ \n",
    "\n",
    "> 有向网络当中的$d_{ij}$数量是链接数量L的2倍\n",
    "\n",
    "- In an **undirected** graph $d_{ij} =d_{ji}$ , so we only need to count them once \n",
    "\n",
    "> 无向网络当中的$d_{ij}$数量是链接数量L\n",
    "\n",
    "\n",
    "## $<d> = \\frac{1}{L }\\sum_{i, j > i} d_{ij}$\n"
   ]
  },
  {
   "cell_type": "markdown",
   "metadata": {
    "collapsed": true,
    "slideshow": {
     "slide_type": "slide"
    }
   },
   "source": [
    "# Cycle  环\n",
    "A path with the same start and end node. \n"
   ]
  },
  {
   "cell_type": "markdown",
   "metadata": {
    "collapsed": true,
    "slideshow": {
     "slide_type": "slide"
    }
   },
   "source": [
    "# CONNECTEDNESS\n"
   ]
  },
  {
   "cell_type": "markdown",
   "metadata": {
    "slideshow": {
     "slide_type": "subslide"
    }
   },
   "source": [
    "# Connected (undirected) graph\n",
    "\n",
    "> In a connected **undirected** graph, any two vertices can be joined by a path. \n",
    "\n",
    "> A disconnected graph is made up by two or more connected components.   \n",
    "\n",
    "- Largest Component:  Giant Component\n",
    "- The rest: Isolates\n",
    "\n",
    "## Bridge 桥\n",
    "if  we erase it, the graph becomes disconnected. "
   ]
  },
  {
   "cell_type": "markdown",
   "metadata": {
    "slideshow": {
     "slide_type": "subslide"
    }
   },
   "source": [
    "## The adjacency matrix of a network with several components can be written in a block-diagonal form, so that nonzero elements are confined to squares, with all other elements being zero:\n",
    "\n",
    "<img src = './img/block.png' width = 600>"
   ]
  },
  {
   "cell_type": "markdown",
   "metadata": {
    "slideshow": {
     "slide_type": "subslide"
    }
   },
   "source": [
    "# 结构洞\n",
    "\n",
    "洞在哪里？"
   ]
  },
  {
   "cell_type": "markdown",
   "metadata": {
    "slideshow": {
     "slide_type": "fragment"
    }
   },
   "source": [
    "洞在桥下！\n",
    "\n",
    "# 结构“坑”"
   ]
  },
  {
   "cell_type": "markdown",
   "metadata": {
    "collapsed": true,
    "slideshow": {
     "slide_type": "subslide"
    }
   },
   "source": [
    "# Strongly connected *directed* graph 强连通有向图\n",
    "\n",
    "has a path from each node to every other node and vice versa (e.g. AB path and BA path).\n",
    "\n",
    "# Weakly connected directed graph  弱连接有向图\n",
    "it is connected if we disregard the edge directions.\n",
    "\n",
    "Strongly connected components can be identified, but not every node is part of a nontrivial strongly connected component.   \n"
   ]
  },
  {
   "cell_type": "markdown",
   "metadata": {
    "collapsed": true,
    "slideshow": {
     "slide_type": "subslide"
    }
   },
   "source": [
    "# In-component -> SCC ->Out-component\n",
    "\n",
    "- In-component: nodes that can reach the **scc** (strongly connected component 强连通分量或强连通子图) \n",
    "- Out-component: nodes that can be reached from the scc. \n",
    "\n",
    "> 万维网的蝴蝶结模型🎀 bowtie model\n",
    "\n"
   ]
  },
  {
   "cell_type": "markdown",
   "metadata": {
    "collapsed": true,
    "slideshow": {
     "slide_type": "subslide"
    }
   },
   "source": [
    "# Clustering coefficient 聚集系数\n"
   ]
  },
  {
   "cell_type": "markdown",
   "metadata": {
    "collapsed": true,
    "slideshow": {
     "slide_type": "subslide"
    }
   },
   "source": [
    "# Clustering coefficient 聚集系数\n",
    "what fraction of your neighbors are connected? Watts & Strogatz, Nature 1998.\n",
    "\n",
    "# 节点$i$的朋友之间是否也是朋友？\n",
    "\n",
    "## Node i with degree $k_i$  节点i有k个朋友\n",
    "\n",
    "> ## $e_i$ represents the number of links between the $k_i$ neighbors of node i.\n",
    "\n",
    "> ## 节点i的k个朋友之间全部是朋友的数量  $\\frac{k_i(k_i -1)}{2}$\n",
    "\n",
    "\n",
    "# $C_i = \\frac{2e_i}{k_i(k_i -1)}$\n",
    "\n",
    "$C_i$ in [0,1]\n",
    "\n"
   ]
  },
  {
   "cell_type": "markdown",
   "metadata": {
    "slideshow": {
     "slide_type": "subslide"
    }
   },
   "source": [
    "# 节点的**聚集系数**\n",
    "\n",
    "<img src = './img/cc.png' width = 500>\n",
    "\n"
   ]
  },
  {
   "cell_type": "markdown",
   "metadata": {
    "slideshow": {
     "slide_type": "subslide"
    }
   },
   "source": [
    "# Global Clustering Coefficient 全局聚集系数（i.e., Transtivity 传递性)\n",
    "\n",
    "> triangles 三角形\n",
    "> triplets 三元组\n",
    "\n",
    "- A triplet consists of three connected nodes. \n",
    "- A triangle therefore includes three closed triplets\n",
    "- A triangle forms three **connected triplets** \n",
    "- **A connected triplet** is defined to be a connected subgraph consisting of three vertices and **two edges**. \n",
    "  \n",
    "## $C  = \\frac{\\mbox{number of closed triplets}}{\\mbox{number of connected triplets of vertices}}$\n",
    "\n",
    "## $C = \\frac{3 \\times \\mbox{number of triangles}}{\\mbox{number of connected triplets of vertices}}$\n",
    "    "
   ]
  },
  {
   "cell_type": "code",
   "execution_count": 20,
   "metadata": {
    "ExecuteTime": {
     "end_time": "2017-05-20T23:58:35.189052",
     "start_time": "2017-05-20T23:58:35.014423"
    },
    "slideshow": {
     "slide_type": "subslide"
    }
   },
   "outputs": [
    {
     "data": {
      "image/png": "[encoded data removed]",
      "text/plain": [
       "<matplotlib.figure.Figure at 0x10f19ef90>"
      ]
     },
     "metadata": {},
     "output_type": "display_data"
    }
   ],
   "source": [
    "G1 = nx.complete_graph(4)\n",
    "pos = nx.spring_layout(G1)  #定义一个布局，此处采用了spring布局方式\n",
    "nx.draw(G1, pos = pos, with_labels = True)"
   ]
  },
  {
   "cell_type": "code",
   "execution_count": 21,
   "metadata": {
    "ExecuteTime": {
     "end_time": "2017-05-20T23:58:35.785051",
     "start_time": "2017-05-20T23:58:35.781593"
    },
    "slideshow": {
     "slide_type": "fragment"
    }
   },
   "outputs": [
    {
     "name": "stdout",
     "output_type": "stream",
     "text": [
      "1.0\n"
     ]
    }
   ],
   "source": [
    "print(nx.transitivity(G1))"
   ]
  },
  {
   "cell_type": "code",
   "execution_count": 22,
   "metadata": {
    "ExecuteTime": {
     "end_time": "2017-05-20T23:58:36.706567",
     "start_time": "2017-05-20T23:58:36.550505"
    },
    "slideshow": {
     "slide_type": "subslide"
    }
   },
   "outputs": [
    {
     "data": {
      "image/png": "[encoded data removed]",
      "text/plain": [
       "<matplotlib.figure.Figure at 0x10efb3ad0>"
      ]
     },
     "metadata": {},
     "output_type": "display_data"
    }
   ],
   "source": [
    "G2 = nx.Graph()\n",
    "for i, j in [(1, 2), (1, 3), (1, 0), (3, 0)]:\n",
    "    G2.add_edge(i,j)\n",
    "nx.draw(G2,pos = pos, with_labels = True)"
   ]
  },
  {
   "cell_type": "code",
   "execution_count": 25,
   "metadata": {
    "ExecuteTime": {
     "end_time": "2017-05-21T00:00:07.271947",
     "start_time": "2017-05-21T00:00:07.268756"
    },
    "slideshow": {
     "slide_type": "fragment"
    }
   },
   "outputs": [
    {
     "name": "stdout",
     "output_type": "stream",
     "text": [
      "0.6\n"
     ]
    }
   ],
   "source": [
    "print(nx.transitivity(G2))\n",
    "# 开放三元组有5个，闭合三元组有3个"
   ]
  },
  {
   "cell_type": "code",
   "execution_count": 24,
   "metadata": {
    "ExecuteTime": {
     "end_time": "2017-05-20T23:58:41.789976",
     "start_time": "2017-05-20T23:58:41.629511"
    },
    "slideshow": {
     "slide_type": "subslide"
    }
   },
   "outputs": [
    {
     "data": {
      "image/png": "[encoded data removed]",
      "text/plain": [
       "<matplotlib.figure.Figure at 0x10f19ebd0>"
      ]
     },
     "metadata": {},
     "output_type": "display_data"
    }
   ],
   "source": [
    "G3 = nx.Graph()\n",
    "for i, j in [(1, 2), (1, 3), (1, 0)]:\n",
    "    G3.add_edge(i,j)\n",
    "nx.draw(G3, pos =pos, with_labels = True)"
   ]
  },
  {
   "cell_type": "code",
   "execution_count": 26,
   "metadata": {
    "ExecuteTime": {
     "end_time": "2017-05-21T00:00:29.398434",
     "start_time": "2017-05-21T00:00:29.394775"
    },
    "slideshow": {
     "slide_type": "fragment"
    }
   },
   "outputs": [
    {
     "name": "stdout",
     "output_type": "stream",
     "text": [
      "0.0\n"
     ]
    }
   ],
   "source": [
    "print(nx.transitivity(G3))\n",
    "# 开放三元组有3个，闭合三元组有0个"
   ]
  },
  {
   "cell_type": "markdown",
   "metadata": {
    "slideshow": {
     "slide_type": "slide"
    }
   },
   "source": [
    "THREE CENTRAL QUANTITIES IN NETWORK SCIENCE\n",
    "- A. Degree distribution: \t\t\t  $p_k$\n",
    "- B. Path length: \t\t\t\t\t\t$<d>$\t\t\t\n",
    "- C. Clustering coefficient: $C_i$\n"
   ]
  },
  {
   "cell_type": "markdown",
   "metadata": {
    "collapsed": true,
    "slideshow": {
     "slide_type": "subslide"
    }
   },
   "source": [
    "# Typical Network Science Research\n",
    "\n",
    "- Discovering, Modeling, Verification\n",
    "    - WATTSDJ,STROGATZSH.Collective dynamics of‘small-world’ networks. Nature, 1998, 393(6684): 440–442.\n",
    "    - BARABÁSI A-L, ALBERT R. Emergence of scaling in random networks. Science, 1999, 286(5439): 509-512."
   ]
  },
  {
   "cell_type": "markdown",
   "metadata": {
    "collapsed": true,
    "slideshow": {
     "slide_type": "subslide"
    }
   },
   "source": [
    "# Typical Math Style\n",
    "Fan Chung & Linyuan Lu, The average distance in random graphs with given expected degree,. PNAS, 19, 15879-15882 (2002)."
   ]
  },
  {
   "cell_type": "markdown",
   "metadata": {
    "collapsed": true,
    "slideshow": {
     "slide_type": "subslide"
    }
   },
   "source": [
    "# Typical Physical Style\n",
    "A.-L.Barabási,R.Albert,H.Jeong Mean-field theory for scale-free random networks. Physica A 272, 173–187 (1999)."
   ]
  },
  {
   "cell_type": "markdown",
   "metadata": {
    "slideshow": {
     "slide_type": "subslide"
    }
   },
   "source": [
    "# Typical Computer Science Style\n",
    "\n",
    "- Community detection\n",
    "- Link prediction\n",
    "- Recommendation algorithms"
   ]
  },
  {
   "cell_type": "markdown",
   "metadata": {
    "slideshow": {
     "slide_type": "subslide"
    }
   },
   "source": [
    "# Typical control sytle\n",
    "Controllability of Complex Networks\n",
    "\n",
    "Liu Y Y, Slotine J J, Barabási A L. Nature, 2011, 473(7346): 167-173."
   ]
  },
  {
   "cell_type": "markdown",
   "metadata": {
    "slideshow": {
     "slide_type": "slide"
    }
   },
   "source": [
    "# 阅读材料\n",
    "- Barabasi 2016 Network Science. Cambridge\n",
    "- 汪小帆、李翔、陈关荣 2012 网络科学导论. 高等教育出版社\n",
    "- 梅拉妮·米歇尔 2011 复杂,湖南科学技术出版社\n",
    "- 菲利普-鲍尔 2004 预知社会：群体行为的内在法则，当代中国出版社\n",
    "- 巴拉巴西 2007 链接：网络新科学 湖南科技出版社"
   ]
  },
  {
   "cell_type": "code",
   "execution_count": null,
   "metadata": {
    "collapsed": true
   },
   "outputs": [],
   "source": []
  }
 ],
 "metadata": {
  "celltoolbar": "Slideshow",
  "kernelspec": {
   "display_name": "Python 3",
   "language": "python",
   "name": "python3"
  },
  "language_info": {
   "codemirror_mode": {
    "name": "ipython",
    "version": 3
   },
   "file_extension": ".py",
   "mimetype": "text/x-python",
   "name": "python",
   "nbconvert_exporter": "python",
   "pygments_lexer": "ipython3",
   "version": "3.7.3"
  },
  "latex_envs": {
   "LaTeX_envs_menu_present": true,
   "autoclose": false,
   "autocomplete": true,
   "bibliofile": "biblio.bib",
   "cite_by": "apalike",
   "current_citInitial": 1,
   "eqLabelWithNumbers": true,
   "eqNumInitial": 0,
   "hotkeys": {
    "equation": "Ctrl-E",
    "itemize": "Ctrl-I"
   },
   "labels_anchors": false,
   "latex_user_defs": false,
   "report_style_numbering": false,
   "user_envs_cfg": false
  },
  "toc": {
   "base_numbering": 1,
   "nav_menu": {},
   "number_sections": false,
   "sideBar": false,
   "skip_h1_title": false,
   "title_cell": "Table of Contents",
   "title_sidebar": "Contents",
   "toc_cell": false,
   "toc_position": {
    "height": "48px",
    "left": "955.991px",
    "top": "0px",
    "width": "159px"
   },
   "toc_section_display": false,
   "toc_window_display": true
  },
  "toc_position": {
   "height": "53px",
   "left": "580.008px",
   "right": "20px",
   "top": "120px",
   "width": "531px"
  }
 },
 "nbformat": 4,
 "nbformat_minor": 1
}
